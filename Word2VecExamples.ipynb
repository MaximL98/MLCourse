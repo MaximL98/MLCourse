{
  "nbformat": 4,
  "nbformat_minor": 0,
  "metadata": {
    "colab": {
      "provenance": [],
      "authorship_tag": "ABX9TyMUph5AVb5xH0xsoX2CcJBW",
      "include_colab_link": true
    },
    "kernelspec": {
      "name": "python3",
      "display_name": "Python 3"
    },
    "language_info": {
      "name": "python"
    }
  },
  "cells": [
    {
      "cell_type": "markdown",
      "metadata": {
        "id": "view-in-github",
        "colab_type": "text"
      },
      "source": [
        "<a href=\"https://colab.research.google.com/github/MaximL98/MLCourse/blob/master/Word2VecExamples.ipynb\" target=\"_parent\"><img src=\"https://colab.research.google.com/assets/colab-badge.svg\" alt=\"Open In Colab\"/></a>"
      ]
    },
    {
      "cell_type": "markdown",
      "source": [
        "Installing the Gensim library"
      ],
      "metadata": {
        "id": "NsnHcA1ITDUH"
      }
    },
    {
      "cell_type": "code",
      "execution_count": 1,
      "metadata": {
        "colab": {
          "base_uri": "https://localhost:8080/"
        },
        "id": "g2kuG9NKKu9Q",
        "outputId": "1b9f0279-d3cb-4e5a-f81e-c6ea84668a8e"
      },
      "outputs": [
        {
          "output_type": "stream",
          "name": "stdout",
          "text": [
            "Looking in indexes: https://pypi.org/simple, https://us-python.pkg.dev/colab-wheels/public/simple/\n",
            "Requirement already satisfied: gensim in /usr/local/lib/python3.10/dist-packages (4.3.1)\n",
            "Requirement already satisfied: numpy>=1.18.5 in /usr/local/lib/python3.10/dist-packages (from gensim) (1.22.4)\n",
            "Requirement already satisfied: scipy>=1.7.0 in /usr/local/lib/python3.10/dist-packages (from gensim) (1.10.1)\n",
            "Requirement already satisfied: smart-open>=1.8.1 in /usr/local/lib/python3.10/dist-packages (from gensim) (6.3.0)\n"
          ]
        }
      ],
      "source": [
        "!pip install gensim"
      ]
    },
    {
      "cell_type": "markdown",
      "source": [
        "Mount Google Drive"
      ],
      "metadata": {
        "id": "d7vFCtijTVCv"
      }
    },
    {
      "cell_type": "code",
      "source": [
        "from google.colab import drive\n",
        "drive.mount('/content/drive')"
      ],
      "metadata": {
        "colab": {
          "base_uri": "https://localhost:8080/"
        },
        "id": "3CXI26wDM_Tn",
        "outputId": "ef1f2d82-4180-420e-b098-394ad8e7c987"
      },
      "execution_count": 2,
      "outputs": [
        {
          "output_type": "stream",
          "name": "stdout",
          "text": [
            "Mounted at /content/drive\n"
          ]
        }
      ]
    },
    {
      "cell_type": "markdown",
      "source": [
        "Import the necessary librarie"
      ],
      "metadata": {
        "id": "p38_nWACTfRt"
      }
    },
    {
      "cell_type": "code",
      "source": [
        "import gensim\n",
        "from gensim.models import Word2Vec\n",
        "from gensim.models import KeyedVectors"
      ],
      "metadata": {
        "id": "nwg5ygadNAax"
      },
      "execution_count": 3,
      "outputs": []
    },
    {
      "cell_type": "markdown",
      "source": [
        "Load the pre-trained Word2Vec model from the file"
      ],
      "metadata": {
        "id": "FGnOMEeUTbuT"
      }
    },
    {
      "cell_type": "code",
      "source": [
        "# Load a pre-trained model\n",
        "model_path = '/content/drive/My Drive/GoogleNewsvectorsnegative300.bin'\n",
        "model = KeyedVectors.load_word2vec_format(model_path, binary=True)\n"
      ],
      "metadata": {
        "id": "zornCD-1K2Pr"
      },
      "execution_count": null,
      "outputs": []
    },
    {
      "cell_type": "markdown",
      "source": [
        "Examples of how to use the model"
      ],
      "metadata": {
        "id": "4pwnpMjmmUKG"
      }
    },
    {
      "cell_type": "code",
      "source": [
        "# Find similar words\n",
        "similar_words = model.most_similar(\"cat\")\n",
        "print(similar_words)\n",
        "\n",
        "# Perform analogy reasoning\n",
        "result = model.most_similar(positive=['king', 'woman'], negative=['man'])\n",
        "print(result)\n",
        "\n",
        "print(model.most_similar_cosmul(positive=[\"Santa\", \"oink\"], negative=[\"pig\"])[0])\n"
      ],
      "metadata": {
        "id": "6Z2ehFMbLF0I"
      },
      "execution_count": null,
      "outputs": []
    }
  ]
}