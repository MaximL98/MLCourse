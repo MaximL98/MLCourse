{
  "nbformat": 4,
  "nbformat_minor": 0,
  "metadata": {
    "colab": {
      "provenance": [],
      "authorship_tag": "ABX9TyOFVjKBeo8tc/8Apef81+8W",
      "include_colab_link": true
    },
    "kernelspec": {
      "name": "python3",
      "display_name": "Python 3"
    },
    "language_info": {
      "name": "python"
    }
  },
  "cells": [
    {
      "cell_type": "markdown",
      "metadata": {
        "id": "view-in-github",
        "colab_type": "text"
      },
      "source": [
        "<a href=\"https://colab.research.google.com/github/MaximL98/MLCourse/blob/master/Word2VecExamples.ipynb\" target=\"_parent\"><img src=\"https://colab.research.google.com/assets/colab-badge.svg\" alt=\"Open In Colab\"/></a>"
      ]
    },
    {
      "cell_type": "markdown",
      "source": [
        "Installing the Gensim library"
      ],
      "metadata": {
        "id": "NsnHcA1ITDUH"
      }
    },
    {
      "cell_type": "code",
      "execution_count": 1,
      "metadata": {
        "colab": {
          "base_uri": "https://localhost:8080/"
        },
        "id": "g2kuG9NKKu9Q",
        "outputId": "1b9f0279-d3cb-4e5a-f81e-c6ea84668a8e"
      },
      "outputs": [
        {
          "output_type": "stream",
          "name": "stdout",
          "text": [
            "Looking in indexes: https://pypi.org/simple, https://us-python.pkg.dev/colab-wheels/public/simple/\n",
            "Requirement already satisfied: gensim in /usr/local/lib/python3.10/dist-packages (4.3.1)\n",
            "Requirement already satisfied: numpy>=1.18.5 in /usr/local/lib/python3.10/dist-packages (from gensim) (1.22.4)\n",
            "Requirement already satisfied: scipy>=1.7.0 in /usr/local/lib/python3.10/dist-packages (from gensim) (1.10.1)\n",
            "Requirement already satisfied: smart-open>=1.8.1 in /usr/local/lib/python3.10/dist-packages (from gensim) (6.3.0)\n"
          ]
        }
      ],
      "source": [
        "!pip install gensim"
      ]
    },
    {
      "cell_type": "markdown",
      "source": [
        "Mount Google Drive"
      ],
      "metadata": {
        "id": "d7vFCtijTVCv"
      }
    },
    {
      "cell_type": "code",
      "source": [
        "from google.colab import drive\n",
        "drive.mount('/content/drive')"
      ],
      "metadata": {
        "colab": {
          "base_uri": "https://localhost:8080/"
        },
        "id": "3CXI26wDM_Tn",
        "outputId": "ef1f2d82-4180-420e-b098-394ad8e7c987"
      },
      "execution_count": 2,
      "outputs": [
        {
          "output_type": "stream",
          "name": "stdout",
          "text": [
            "Mounted at /content/drive\n"
          ]
        }
      ]
    },
    {
      "cell_type": "markdown",
      "source": [
        "Import the necessary librarie"
      ],
      "metadata": {
        "id": "p38_nWACTfRt"
      }
    },
    {
      "cell_type": "code",
      "source": [
        "import gensim\n",
        "from gensim.models import Word2Vec\n",
        "from gensim.models import KeyedVectors\n",
        "from sklearn.decomposition import PCA\n",
        "from matplotlib import pyplot"
      ],
      "metadata": {
        "id": "nwg5ygadNAax"
      },
      "execution_count": 7,
      "outputs": []
    },
    {
      "cell_type": "markdown",
      "source": [
        "Load the pre-trained Word2Vec model from the file"
      ],
      "metadata": {
        "id": "FGnOMEeUTbuT"
      }
    },
    {
      "cell_type": "code",
      "source": [
        "# Load a pre-trained model\n",
        "model_path = '/content/drive/My Drive/GoogleNewsvectorsnegative300.bin'\n",
        "model = KeyedVectors.load_word2vec_format(model_path, binary=True)\n"
      ],
      "metadata": {
        "id": "zornCD-1K2Pr"
      },
      "execution_count": 4,
      "outputs": []
    },
    {
      "cell_type": "markdown",
      "source": [
        "Examples of how to use the model"
      ],
      "metadata": {
        "id": "4pwnpMjmmUKG"
      }
    },
    {
      "cell_type": "code",
      "source": [
        "# Find similar words\n",
        "similar_words = model.most_similar(\"cat\")\n",
        "print(similar_words)\n",
        "\n",
        "print(\"3 words similar to example\")\n",
        "words = model.most_similar(\"example\", topn=3)\n",
        "for word in words:\n",
        "  print(word)\n",
        "print()\n",
        "\n",
        "# Perform analogy reasoning\n",
        "result = model.most_similar(positive=['king', 'woman'], negative=['man'])\n",
        "print(result)\n",
        "\n",
        "print(model.most_similar_cosmul(positive=[\"Santa\", \"oink\"], negative=[\"pig\"])[0])\n",
        "\n",
        "# Finding Capital of a country given Capital of Germany: (Berlin - Germany) + country = \n",
        "print(\"Finding Capital of country: (Berlin - Germany) + country\")\n",
        "capital = model.most_similar(positive=[\"Berlin\", \"Russia\"], negative=[\"Germany\"], topn=1)\n",
        "print(capital)\n",
        "\n",
        "\n",
        "#Visualizing data\n",
        "words = [\"france\", \"germany\", \"india\", \"car\", \"bus\", \"road\", \"teacher\", \"student\"]\n",
        "\n",
        "X = model[words]\n",
        "pca = PCA(n_components=2)\n",
        "result = pca.fit_transform(X)\n",
        "\n",
        "pyplot.scatter(result[:, 0], result[:, 1])\n",
        "for i, word in enumerate(words):\n",
        "    pyplot.annotate(word, xy=(result[i, 0], result[i, 1]))\n",
        "pyplot.show()\n"
      ],
      "metadata": {
        "colab": {
          "base_uri": "https://localhost:8080/",
          "height": 629
        },
        "id": "6Z2ehFMbLF0I",
        "outputId": "8b976e80-2455-4801-df84-986189946e54"
      },
      "execution_count": 25,
      "outputs": [
        {
          "output_type": "stream",
          "name": "stdout",
          "text": [
            "[('cats', 0.8099379539489746), ('dog', 0.760945737361908), ('kitten', 0.7464985251426697), ('feline', 0.7326234579086304), ('beagle', 0.7150582671165466), ('puppy', 0.7075453400611877), ('pup', 0.6934291124343872), ('pet', 0.6891531348228455), ('felines', 0.6755931973457336), ('chihuahua', 0.6709762215614319)]\n",
            "3 words similar to example\n",
            "('instance', 0.7873880863189697)\n",
            "('examples', 0.604103684425354)\n",
            "('illustration', 0.5342041254043579)\n",
            "\n",
            "[('queen', 0.7118193507194519), ('monarch', 0.6189674139022827), ('princess', 0.5902431011199951), ('crown_prince', 0.5499460697174072), ('prince', 0.5377321839332581), ('kings', 0.5236844420433044), ('Queen_Consort', 0.5235945582389832), ('queens', 0.5181134343147278), ('sultan', 0.5098593831062317), ('monarchy', 0.5087411999702454)]\n",
            "('HO_HO_HO', 0.9089415669441223)\n",
            "Finding Capital of country: (Berlin - Germany) + country\n",
            "[('cats', 0.6252904534339905)]\n"
          ]
        },
        {
          "output_type": "display_data",
          "data": {
            "text/plain": [
              "<Figure size 640x480 with 1 Axes>"
            ],
            "image/png": "[encoded data removed]"
          },
          "metadata": {}
        }
      ]
    }
  ]
}